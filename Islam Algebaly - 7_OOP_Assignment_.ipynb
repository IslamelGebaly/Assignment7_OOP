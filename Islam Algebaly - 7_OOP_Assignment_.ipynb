{
  "cells": [
    {
      "cell_type": "markdown",
      "metadata": {
        "id": "LC4T6KmLBqXS"
      },
      "source": [
        "> # Dear Epsilon Students, \n",
        "> # The More you practice The better You'll Be."
      ]
    },
    {
      "cell_type": "markdown",
      "metadata": {
        "id": "T-vAOXnfBqXb"
      },
      "source": [
        "### Instructions: \n",
        "- Make sure that you understand this topics before you start.\n",
        "- If you found something hard to do, try and try then google it and finally ask someone. \n",
        "- You can divide this work into daily tasks so that you do not feel pressure.\n",
        "- After you finish, go to model answer and rate yourself. \n",
        "- If you find something ambiguous, Try to make a hypothesis to solve a problem. "
      ]
    },
    {
      "cell_type": "markdown",
      "metadata": {
        "id": "-i2fWoZ3BqXc"
      },
      "source": [
        "### Question classification: \n",
        "- Green is level 1 \n",
        "- Orange is level 2 \n",
        "- Red is level 3 "
      ]
    },
    {
      "cell_type": "markdown",
      "metadata": {
        "id": "9qBRysV2BqXd"
      },
      "source": [
        "# <center> Let's start 💪 </center> "
      ]
    },
    {
      "cell_type": "markdown",
      "metadata": {
        "id": "tcbcs3FjBqXf"
      },
      "source": [
        "## <p style=\"color:green;\">Q.01 Fill in the Line class methods to accept coordinates as a pair of tuples and return the slope and distance of the line.</p>\n"
      ]
    },
    {
      "cell_type": "code",
      "execution_count": 6,
      "metadata": {
        "id": "LoOyVOR-BqXg"
      },
      "outputs": [],
      "source": [
        "# Answer here \n",
        "import math\n",
        "class Line:\n",
        "    def __init__(self,coor1,coor2):\n",
        "        self.__coor1 = coor1\n",
        "        self.__coor2 = coor2\n",
        "    \n",
        "    def distance(self):\n",
        "        return math.sqrt((self.__coor1[1] - self.__coor2[1]) ** 2 + \n",
        "                        (self.__coor1[0] - self.__coor2[0]) ** 2)\n",
        "    \n",
        "    def slope(self):\n",
        "        return (self.__coor1[1] - self.__coor2[1])/(self.__coor1[0] - self.__coor2[0]) "
      ]
    },
    {
      "cell_type": "code",
      "execution_count": 7,
      "metadata": {},
      "outputs": [
        {
          "name": "stdout",
          "output_type": "stream",
          "text": [
            "1.4142135623730951\n",
            "-1.0\n"
          ]
        }
      ],
      "source": [
        "line1 = Line((1,2), (2,1))\n",
        "print(line1.distance())\n",
        "print(line1.slope())"
      ]
    },
    {
      "cell_type": "markdown",
      "metadata": {
        "id": "TijsfHu8BqYD"
      },
      "source": [
        "## <p style=\"color:green;\">Q.02 Fill in the class to get the volume and surface area of Cylinder</p>"
      ]
    },
    {
      "cell_type": "code",
      "execution_count": 19,
      "metadata": {
        "id": "iaK6uatJBqYF"
      },
      "outputs": [],
      "source": [
        "# Answer here \n",
        "class Cylinder:\n",
        "    PI = 3.14\n",
        "\n",
        "    def __init__(self,height=1,radius=1):\n",
        "        self.__height = height\n",
        "        self.__radius = radius\n",
        "        \n",
        "    def volume(self):\n",
        "        return self.PI * self.__radius ** 2 * self.__height\n",
        "    \n",
        "    def surface_area(self):\n",
        "        return 2 * self.PI * self.__radius ** 2 + 2 * self.PI * self.__radius * self.__height"
      ]
    },
    {
      "cell_type": "code",
      "execution_count": 24,
      "metadata": {},
      "outputs": [
        {
          "name": "stdout",
          "output_type": "stream",
          "text": [
            "surface area = 94.2\n",
            "volume = 56.52\n"
          ]
        }
      ],
      "source": [
        "cy1 = Cylinder(2, 3)\n",
        "print(f\"surface area = {cy1.surface_area()}\")\n",
        "print(f\"volume = {cy1.volume()}\")"
      ]
    },
    {
      "cell_type": "markdown",
      "metadata": {
        "id": "zafNo4cQBqYJ"
      },
      "source": [
        "## <p style=\"color:green;\">Q.03 Create a child class Bus that will inherit all of the variables and methods of the Vehicle class</p>\n",
        "> Given:\n"
      ]
    },
    {
      "cell_type": "code",
      "execution_count": 37,
      "metadata": {
        "id": "zrzYv5AbBqYM"
      },
      "outputs": [],
      "source": [
        "# Answer here \n",
        "class Vehicle:\n",
        "\n",
        "    def __init__(self, name, max_speed, mileage):\n",
        "        self.name = name\n",
        "        self.max_speed = max_speed\n",
        "        self.mileage = mileage\n",
        "\n",
        "class Bus(Vehicle):\n",
        "    \n",
        "    def __init__(self, max_speed, mileage, name=\"Bus\"):\n",
        "        super().__init__(name, max_speed, mileage)\n",
        "\n",
        "    def load_passengers(self):\n",
        "        print(f\"{self.name} loading passengers\")\n",
        "    \n",
        "    def travel(self):\n",
        "        print(f\"{self.name} travelling at speed = {self.max_speed}m/s\")"
      ]
    },
    {
      "cell_type": "code",
      "execution_count": 38,
      "metadata": {},
      "outputs": [
        {
          "name": "stdout",
          "output_type": "stream",
          "text": [
            "Bus loading passengers\n",
            "Bus travelling at speed = 20m/s\n"
          ]
        }
      ],
      "source": [
        "bus1 = Bus(20, 100)\n",
        "bus1.load_passengers()\n",
        "bus1.travel()"
      ]
    },
    {
      "cell_type": "markdown",
      "metadata": {
        "id": "kLIvtLf7BqYO"
      },
      "source": [
        "# <center> Thank's for your effort ❤️ </center> "
      ]
    }
  ],
  "metadata": {
    "colab": {
      "provenance": []
    },
    "kernelspec": {
      "display_name": "Python 3",
      "language": "python",
      "name": "python3"
    },
    "language_info": {
      "codemirror_mode": {
        "name": "ipython",
        "version": 3
      },
      "file_extension": ".py",
      "mimetype": "text/x-python",
      "name": "python",
      "nbconvert_exporter": "python",
      "pygments_lexer": "ipython3",
      "version": "3.11.0"
    },
    "vscode": {
      "interpreter": {
        "hash": "75337720ec34b69312c25f942f644ab0581995c3cd95bf6f739533e80eb60204"
      }
    }
  },
  "nbformat": 4,
  "nbformat_minor": 0
}
